{
 "cells": [
  {
   "cell_type": "markdown",
   "metadata": {},
   "source": [
    "# EE315 Design Project"
   ]
  },
  {
   "cell_type": "markdown",
   "metadata": {},
   "source": [
    "# Group A - Bingo"
   ]
  },
  {
   "cell_type": "markdown",
   "metadata": {},
   "source": [
    "Create a Bingo card!\n",
    "\n",
    "The below method generates an array of random numbers and sorts them into a bingo card format."
   ]
  },
  {
   "cell_type": "markdown",
   "metadata": {},
   "source": [
    "Importing the overlay class."
   ]
  },
  {
   "cell_type": "code",
   "execution_count": 1,
   "metadata": {},
   "outputs": [
    {
     "data": {
      "application/javascript": [
       "\n",
       "try {\n",
       "require(['notebook/js/codecell'], function(codecell) {\n",
       "  codecell.CodeCell.options_default.highlight_modes[\n",
       "      'magic_text/x-csrc'] = {'reg':[/^%%microblaze/]};\n",
       "  Jupyter.notebook.events.one('kernel_ready.Kernel', function(){\n",
       "      Jupyter.notebook.get_cells().map(function(cell){\n",
       "          if (cell.cell_type == 'code'){ cell.auto_highlight(); } }) ;\n",
       "  });\n",
       "});\n",
       "} catch (e) {};\n"
      ]
     },
     "metadata": {},
     "output_type": "display_data"
    },
    {
     "data": {
      "application/javascript": [
       "\n",
       "try {\n",
       "require(['notebook/js/codecell'], function(codecell) {\n",
       "  codecell.CodeCell.options_default.highlight_modes[\n",
       "      'magic_text/x-csrc'] = {'reg':[/^%%pybind11/]};\n",
       "  Jupyter.notebook.events.one('kernel_ready.Kernel', function(){\n",
       "      Jupyter.notebook.get_cells().map(function(cell){\n",
       "          if (cell.cell_type == 'code'){ cell.auto_highlight(); } }) ;\n",
       "  });\n",
       "});\n",
       "} catch (e) {};\n"
      ]
     },
     "metadata": {},
     "output_type": "display_data"
    }
   ],
   "source": [
    "from pynq import Overlay"
   ]
  },
  {
   "cell_type": "markdown",
   "metadata": {},
   "source": [
    "Program the Overlay onto the PYNQ-Z2, and parse the Hwh file"
   ]
  },
  {
   "cell_type": "code",
   "execution_count": 2,
   "metadata": {},
   "outputs": [],
   "source": [
    "ol = Overlay(\"rng.bit\")"
   ]
  },
  {
   "cell_type": "code",
   "execution_count": 3,
   "metadata": {},
   "outputs": [],
   "source": [
    "ol?"
   ]
  },
  {
   "cell_type": "markdown",
   "metadata": {},
   "source": [
    "The cell below requires user input to determine the number of cards to generate. "
   ]
  },
  {
   "cell_type": "code",
   "execution_count": 4,
   "metadata": {},
   "outputs": [
    {
     "name": "stdout",
     "output_type": "stream",
     "text": [
      "How many players? \n",
      " Tip: Press return after you enter the number \n",
      "3\n"
     ]
    }
   ],
   "source": [
    "players = input(\"How many players? \\n Tip: Press return after you enter the number \\n\")"
   ]
  },
  {
   "cell_type": "markdown",
   "metadata": {},
   "source": [
    "Importing the required libraries."
   ]
  },
  {
   "cell_type": "code",
   "execution_count": 5,
   "metadata": {},
   "outputs": [],
   "source": [
    "import random\n",
    "import ipywidgets as widgets\n",
    "from IPython.display import display\n",
    "from IPython.display import Audio\n",
    "from time import sleep\n",
    "import threading"
   ]
  },
  {
   "cell_type": "code",
   "execution_count": 6,
   "metadata": {},
   "outputs": [],
   "source": [
    "rng = ol.rng_0"
   ]
  },
  {
   "cell_type": "code",
   "execution_count": 7,
   "metadata": {},
   "outputs": [],
   "source": [
    "rng.write(0x00, 0)\n",
    "rng.write(0x04, 1)\n",
    "rng.write(0x08,3)\n",
    "out_address = 0x0C"
   ]
  },
  {
   "cell_type": "code",
   "execution_count": 8,
   "metadata": {},
   "outputs": [],
   "source": [
    "my_list=[]\n",
    "for i in range (1,91):\n",
    "    my_list.append(i)"
   ]
  },
  {
   "cell_type": "markdown",
   "metadata": {},
   "source": [
    "The call_number_func() ensures that the number generated cannot be greater than 90. If it is then it regenerates it and appends it to a list of random numbers. "
   ]
  },
  {
   "cell_type": "code",
   "execution_count": 9,
   "metadata": {},
   "outputs": [],
   "source": [
    "def call_number_func():\n",
    "\n",
    "    RNG_number = rng.read(out_address)\n",
    "    while RNG_number>len(my_list):\n",
    "        RNG_number = rng.read(out_address)\n",
    "\n",
    "    if len(call_list)<90:\n",
    "        call_number = my_list[RNG_number]\n",
    "        filename= \"./Sounds/\"+str(call_number)+\".wav\"\n",
    "        display(Audio(filename, autoplay=True));\n",
    "    \n",
    "        my_list.remove(call_number)\n",
    "\n",
    "        call_list.append(call_number)"
   ]
  },
  {
   "cell_type": "markdown",
   "metadata": {},
   "source": [
    "This is where any lists are initialised within the model. "
   ]
  },
  {
   "cell_type": "code",
   "execution_count": 10,
   "metadata": {},
   "outputs": [],
   "source": [
    "button_list=[]"
   ]
  },
  {
   "cell_type": "markdown",
   "metadata": {},
   "source": [
    "The function button_on_click allows the individual bingo buttons to change colour when the user presses to \"score off\" a number. The user can, also, click again and this value will return to the original colour and be removed from any lists stored. "
   ]
  },
  {
   "cell_type": "code",
   "execution_count": 12,
   "metadata": {},
   "outputs": [],
   "source": [
    "def button_on_click(myButton):\n",
    "    value = int(myButton.description)\n",
    "    \n",
    "    if myButton.style.button_color == 'green':\n",
    "        myButton.style.button_color = 'orange'\n",
    "        \n",
    "        if not value in call_list:\n",
    "            delValueFromLists(value)\n",
    "    \n",
    "    else:\n",
    "        myButton.style.button_color = 'green'\n",
    "        addValueToLists(value)"
   ]
  },
  {
   "cell_type": "markdown",
   "metadata": {},
   "source": [
    "The compareValues function is called when the user presses 'Bingo!'. This function then takes in the numbers pressed by the user on the card and also the numbers called out which have been generated. The function compares values to check that numPressed is a subset of call_list, otherwise it tells the user they are incorrect and shows which values were wrong. "
   ]
  },
  {
   "cell_type": "code",
   "execution_count": 13,
   "metadata": {},
   "outputs": [],
   "source": [
    "def compareValues(numPressed, call_list, bingoButton):\n",
    "    wrongNumberList = []\n",
    "    sleep(1)\n",
    "    list1=list(map(int, numPressed))     #This changes list from strings to ints\n",
    "    list2=list(map(int, call_list))\n",
    "    list1 = list(dict.fromkeys(list1))   #converts to dict then back to list to remove duplicates\n",
    "    numReq = cardSize*cardSize           #number of numbers required for bingo\n",
    "    \n",
    "    for element in list1:\n",
    "        if element not in list2:\n",
    "            wrongNumberList.append(element)\n",
    "    \n",
    "    if len(list1)==numReq:\n",
    "        if (all(item in list2 for item in list1)): \n",
    "            print(\"Congratulations, it's Bingo!\")\n",
    "            event.set()\n",
    "            display(Audio(\"./Sounds/ThatsABingo.mp3\", autoplay =True))\n",
    "            bingoButton.style.button_color = 'green'\n",
    "        else:\n",
    "            print(\"Unfortunately, these numbers do not match. These numbers are incorrect \" + str(wrongNumberList)) \n",
    "            bingoButton.style.button_color = 'red'\n",
    "            sleep(1)\n",
    "            bingoButton.style.button_color = 'orange'\n",
    "            \n",
    "    else:\n",
    "        print(\"Unfortunately, there are not the right amount of numbers for Bingo\")\n",
    "        bingoButton.style.button_color = 'red'\n",
    "        sleep(1)\n",
    "        bingoButton.style.button_color = 'orange'"
   ]
  },
  {
   "cell_type": "markdown",
   "metadata": {},
   "source": [
    "The function allows a user to pause play, especially if the numbers are being called too quick for a player. Likewise, the game can resume play by pressing the pauseButton again."
   ]
  },
  {
   "cell_type": "code",
   "execution_count": 14,
   "metadata": {},
   "outputs": [],
   "source": [
    "def pausePressed(pauseButton):\n",
    "    pauseButton\n",
    "    pauseButton.style.button_color = 'LightSteelBlue'\n",
    "    \n",
    "    if event.is_set():\n",
    "        x = threading.Thread(target=thread_function, args=())\n",
    "        event.clear()\n",
    "        x.start()\n",
    "    else:\n",
    "        event.set()\n",
    "        \n",
    "    sleep(1)\n",
    "    pauseButton.style.button_color = 'SteelBlue'"
   ]
  },
  {
   "cell_type": "markdown",
   "metadata": {},
   "source": [
    "The function below, bingoPressed(), is so the user can call 'Bingo' when they believe they have a full house. It calls to the compareValues() function to allow validation of the bingo card. "
   ]
  },
  {
   "cell_type": "code",
   "execution_count": 15,
   "metadata": {},
   "outputs": [],
   "source": [
    "def bingoPressed(bingoButton):\n",
    "    bingoButton\n",
    "    ind = int(bingoButton.description[-1])-1\n",
    "    bingoButton.style.button_color = 'blue'\n",
    "    bingoButton = compareValues(numPressLst[ind], call_list, bingoButton) "
   ]
  },
  {
   "cell_type": "markdown",
   "metadata": {},
   "source": [
    "Implementing the bingo card based upon the number of players and size of the card required. \n",
    "\n",
    "Through the use of a for loop, the numbers within the card can be generated and placed in a ipywidget layout. This layout creates a grid which is sized using the cardSize * cardSize. \n",
    "\n",
    "For the bingo game to be interactive, the need to implement a form of user interaction, such as scoring off the number called, was required. This is achieved by creating a for loop which has a callback element and calls the function above, button_on_click().\n",
    "\n",
    "The creation of a call bingo button is, also, implemented within this loop. "
   ]
  },
  {
   "cell_type": "code",
   "execution_count": 16,
   "metadata": {},
   "outputs": [],
   "source": [
    "cardSize = 4\n",
    "minNum = 1\n",
    "maxNum = 90\n",
    "noCards = int(players)\n",
    "myCards = []\n",
    "bingos = []\n",
    "cardNumbersList = []\n",
    "\n",
    "for i in range(noCards):\n",
    "    card = []\n",
    "    randRange = range(minNum, maxNum)\n",
    "    card = random.sample(randRange, cardSize * cardSize)\n",
    "    cardNumbersList.append(card)\n",
    "    card.sort()\n",
    "    \n",
    "    buttons = []\n",
    "    \n",
    "    myButton = widgets.GridBox(children=[widgets.Button(description=str(num), layout=widgets.Layout(width='auto', height='auto'),\n",
    "                 button_style='warning') for num in card],\n",
    "\n",
    "                layout=widgets.Layout(\n",
    "                                    width='80%',\n",
    "                                    grid_template_columns='20%'*cardSize,\n",
    "                                    grid_template_rows='40px'*cardSize,\n",
    "                                    grid_gap='1px 2px')\n",
    "                           )\n",
    "    \n",
    "    for button in myButton.children:\n",
    "        button.on_click(button_on_click)\n",
    "            \n",
    "    myCards.append(myButton)\n",
    "    \n",
    "  \n",
    "    \n",
    "    bingoButton = widgets.GridBox(children=[widgets.Button(description='Bingo - Player ' + str(i+1), layout=widgets.Layout(width='auto', height='auto'),\n",
    "                 button_style='warning') ],\n",
    "\n",
    "                layout=widgets.Layout(\n",
    "                                    width='60%',\n",
    "                                    grid_template_columns='20%',\n",
    "                                    grid_template_rows='40px',\n",
    "                                    grid_gap='1px 2px')\n",
    "                            \n",
    "                                 )\n",
    "    \n",
    "    for bingo in bingoButton.children:\n",
    "        bingo.on_click(bingoPressed)\n",
    "\n",
    "    bingos.append(bingoButton)\n",
    "    \n",
    "    pauseButton = widgets.Button(description='Pause/Play', button_style='warning')\n",
    "\n",
    "    pauseButton.on_click(pausePressed)"
   ]
  },
  {
   "cell_type": "markdown",
   "metadata": {},
   "source": [
    "The functions below, addValueToLists() and delValueFromLists(), allow the user to select and unselect numbers they have scored off on their card. The unselect feature can be used for mistakes made by the user. "
   ]
  },
  {
   "cell_type": "code",
   "execution_count": 17,
   "metadata": {},
   "outputs": [],
   "source": [
    "numPressLst = [[] for _ in range(noCards)] \n",
    "\n",
    "def addValueToLists(value):\n",
    "    for list in cardNumbersList:\n",
    "        if value in list:\n",
    "            numPressLst[cardNumbersList.index(list)].append(value)"
   ]
  },
  {
   "cell_type": "code",
   "execution_count": 18,
   "metadata": {},
   "outputs": [],
   "source": [
    "def delValueFromLists(value):\n",
    "    for list in numPressLst:\n",
    "        if value in list:\n",
    "            list.remove(value)"
   ]
  },
  {
   "cell_type": "markdown",
   "metadata": {},
   "source": [
    "The for loop below allows the bingo cards to be generated and is where the user can interact with the game. "
   ]
  },
  {
   "cell_type": "code",
   "execution_count": 26,
   "metadata": {},
   "outputs": [],
   "source": [
    "def bingoCards(start):\n",
    "    display(pauseButton)\n",
    "    call_list=[]\n",
    "    for idx, card in enumerate(myCards):\n",
    "        display(card)\n",
    "        display(bingos[idx])  "
   ]
  },
  {
   "cell_type": "markdown",
   "metadata": {},
   "source": [
    "The creation of a 'Start' button for the user is initialised below and implements the feature that when pressed, it prints the bingo cards for the game. "
   ]
  },
  {
   "cell_type": "code",
   "execution_count": 27,
   "metadata": {},
   "outputs": [],
   "source": [
    "start = widgets.Button(description='Start Bingo', button_style='primary')\n",
    "start.on_click(bingoCards)"
   ]
  },
  {
   "cell_type": "code",
   "execution_count": 34,
   "metadata": {},
   "outputs": [
    {
     "data": {
      "application/vnd.jupyter.widget-view+json": {
       "model_id": "72564e8b32db440187bcd84cfc5c9a61",
       "version_major": 2,
       "version_minor": 0
      },
      "text/plain": [
       "Button(button_style='primary', description='Start Bingo', style=ButtonStyle())"
      ]
     },
     "metadata": {},
     "output_type": "display_data"
    }
   ],
   "source": [
    "start"
   ]
  },
  {
   "cell_type": "markdown",
   "metadata": {},
   "source": [
    "The use of threading allows the game to be played and numbers to called asynchronously."
   ]
  },
  {
   "cell_type": "code",
   "execution_count": 35,
   "metadata": {},
   "outputs": [],
   "source": [
    "event = threading.Event()"
   ]
  },
  {
   "cell_type": "code",
   "execution_count": 36,
   "metadata": {},
   "outputs": [],
   "source": [
    "event.set()"
   ]
  },
  {
   "cell_type": "markdown",
   "metadata": {},
   "source": [
    "The implementation of thread_function() calls to the call_number_func() to sound the next number being called. The if statement is implemented, as once all the numbers have been called it will return an index of out range error, as a player should have called Bingo by this point."
   ]
  },
  {
   "cell_type": "code",
   "execution_count": 37,
   "metadata": {},
   "outputs": [],
   "source": [
    "def thread_function():\n",
    "    while(True):\n",
    "        call_number_func()\n",
    "        sleep(7)\n",
    "        if len(call_list)==90:\n",
    "            event.set()\n",
    "        if event.is_set():\n",
    "            break"
   ]
  },
  {
   "cell_type": "code",
   "execution_count": 38,
   "metadata": {},
   "outputs": [],
   "source": [
    "x = threading.Thread(target=thread_function, args=())\n",
    "event.clear()\n",
    "#x.start()"
   ]
  },
  {
   "cell_type": "code",
   "execution_count": null,
   "metadata": {},
   "outputs": [],
   "source": []
  },
  {
   "cell_type": "code",
   "execution_count": null,
   "metadata": {},
   "outputs": [],
   "source": []
  },
  {
   "cell_type": "code",
   "execution_count": null,
   "metadata": {},
   "outputs": [],
   "source": []
  }
 ],
 "metadata": {
  "kernelspec": {
   "display_name": "Python 3",
   "language": "python",
   "name": "python3"
  },
  "language_info": {
   "codemirror_mode": {
    "name": "ipython",
    "version": 3
   },
   "file_extension": ".py",
   "mimetype": "text/x-python",
   "name": "python",
   "nbconvert_exporter": "python",
   "pygments_lexer": "ipython3",
   "version": "3.6.5"
  }
 },
 "nbformat": 4,
 "nbformat_minor": 2
}
