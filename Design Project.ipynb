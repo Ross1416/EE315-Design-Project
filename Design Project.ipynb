{
 "cells": [
  {
   "cell_type": "markdown",
   "metadata": {},
   "source": [
    "# EE315 Design Project"
   ]
  },
  {
   "cell_type": "markdown",
   "metadata": {},
   "source": [
    "Create a Bingo card!\n",
    "\n",
    "The below method generates an array of random numbers and sorts them into a bingo card format."
   ]
  },
  {
   "cell_type": "markdown",
   "metadata": {},
   "source": [
    "Importing the overlay class."
   ]
  },
  {
   "cell_type": "code",
   "execution_count": 1,
   "metadata": {},
   "outputs": [
    {
     "data": {
      "application/javascript": [
       "\n",
       "try {\n",
       "require(['notebook/js/codecell'], function(codecell) {\n",
       "  codecell.CodeCell.options_default.highlight_modes[\n",
       "      'magic_text/x-csrc'] = {'reg':[/^%%microblaze/]};\n",
       "  Jupyter.notebook.events.one('kernel_ready.Kernel', function(){\n",
       "      Jupyter.notebook.get_cells().map(function(cell){\n",
       "          if (cell.cell_type == 'code'){ cell.auto_highlight(); } }) ;\n",
       "  });\n",
       "});\n",
       "} catch (e) {};\n"
      ]
     },
     "metadata": {},
     "output_type": "display_data"
    },
    {
     "data": {
      "application/javascript": [
       "\n",
       "try {\n",
       "require(['notebook/js/codecell'], function(codecell) {\n",
       "  codecell.CodeCell.options_default.highlight_modes[\n",
       "      'magic_text/x-csrc'] = {'reg':[/^%%pybind11/]};\n",
       "  Jupyter.notebook.events.one('kernel_ready.Kernel', function(){\n",
       "      Jupyter.notebook.get_cells().map(function(cell){\n",
       "          if (cell.cell_type == 'code'){ cell.auto_highlight(); } }) ;\n",
       "  });\n",
       "});\n",
       "} catch (e) {};\n"
      ]
     },
     "metadata": {},
     "output_type": "display_data"
    }
   ],
   "source": [
    "from pynq import Overlay"
   ]
  },
  {
   "cell_type": "markdown",
   "metadata": {},
   "source": [
    "Program the Overlay onto the PYNQ-Z2, and parse the Hwh file"
   ]
  },
  {
   "cell_type": "code",
   "execution_count": 2,
   "metadata": {},
   "outputs": [],
   "source": [
    "ol = Overlay(\"design_1_wrapper.bit\")"
   ]
  },
  {
   "cell_type": "markdown",
   "metadata": {},
   "source": [
    "Return a file that reports the results of the Hwh parsing to the designer."
   ]
  },
  {
   "cell_type": "code",
   "execution_count": 3,
   "metadata": {},
   "outputs": [],
   "source": [
    "ol?"
   ]
  },
  {
   "cell_type": "markdown",
   "metadata": {},
   "source": [
    "Importing the required libraries."
   ]
  },
  {
   "cell_type": "code",
   "execution_count": 4,
   "metadata": {},
   "outputs": [],
   "source": [
    "import random\n",
    "import ipywidgets as widgets\n",
    "from IPython.display import display\n",
    "from IPython.display import Audio"
   ]
  },
  {
   "cell_type": "code",
   "execution_count": 5,
   "metadata": {},
   "outputs": [],
   "source": [
    "rng = ol.rng_test01_0"
   ]
  },
  {
   "cell_type": "code",
   "execution_count": 6,
   "metadata": {},
   "outputs": [],
   "source": [
    "rng.write(0x00, 0)\n",
    "rng.write(0x04, 1)\n",
    "rng.write(0x08,3)\n",
    "out_address = 0x0C"
   ]
  },
  {
   "cell_type": "code",
   "execution_count": 7,
   "metadata": {},
   "outputs": [],
   "source": [
    "my_list=[]\n",
    "for i in range (1,91):\n",
    "    my_list.append(i)"
   ]
  },
  {
   "cell_type": "markdown",
   "metadata": {},
   "source": [
    "The call_number_func() ensures that the number generated cannot be greater than 90. If it is then it regenerates it and appends it to a list of random numbers. "
   ]
  },
  {
   "cell_type": "code",
   "execution_count": 8,
   "metadata": {},
   "outputs": [],
   "source": [
    "def call_number_func():\n",
    "\n",
    "    RNG_number = rng.read(out_address)\n",
    "    while RNG_number>len(my_list):\n",
    "        RNG_number = rng.read(out_address)\n",
    "        if RNG_number> len(my_list):\n",
    "            RNG_number = 90 - len(my_list)\n",
    "\n",
    "    call_number = my_list[RNG_number]\n",
    "    my_list.remove(call_number)\n",
    "\n",
    "    call_list.append(call_number)"
   ]
  },
  {
   "cell_type": "code",
   "execution_count": 9,
   "metadata": {},
   "outputs": [],
   "source": [
    "call_list=[]"
   ]
  },
  {
   "cell_type": "code",
   "execution_count": 88,
   "metadata": {},
   "outputs": [],
   "source": [
    "call_number_func()"
   ]
  },
  {
   "cell_type": "code",
   "execution_count": 89,
   "metadata": {},
   "outputs": [
    {
     "data": {
      "text/plain": [
       "[1, 83]"
      ]
     },
     "execution_count": 89,
     "metadata": {},
     "output_type": "execute_result"
    }
   ],
   "source": [
    "list(map(int, call_list))"
   ]
  },
  {
   "cell_type": "markdown",
   "metadata": {},
   "source": [
    "The function implements the ability for the button to change colour. This will allow the user to interact and score off their numbers which have been called. "
   ]
  },
  {
   "cell_type": "code",
   "execution_count": 35,
   "metadata": {},
   "outputs": [],
   "source": [
    "button_list=[]\n",
    "numPressed=[]\n",
    "wrongNumberList=[]"
   ]
  },
  {
   "cell_type": "code",
   "execution_count": 108,
   "metadata": {},
   "outputs": [],
   "source": [
    "def button_on_click(myButton):\n",
    "    myButton\n",
    "    myButton.style.button_color = 'green'\n",
    "    #numPressed = card.children[idx]\n",
    "    temp = numPressed.find(myButton.description,0,len(numPressed))\n",
    "    buttons_pressed[myCards].append(temp)"
   ]
  },
  {
   "cell_type": "code",
   "execution_count": 91,
   "metadata": {},
   "outputs": [],
   "source": [
    "#def bingo(validation):\n",
    "#    if(validation):\n",
    "#        print(\"Congratulations, you have won!\")\n",
    "#    else:\n",
    "#        print(\"Unfortunately, your card is incorrect\")     "
   ]
  },
  {
   "cell_type": "code",
   "execution_count": 92,
   "metadata": {},
   "outputs": [],
   "source": [
    "#numMarked = []\n",
    "#def numberCalledList(numCalled):\n",
    "    #for noCards in myCards:\n",
    "        #n = 1\n",
    "        #numMarked.append(numCalled)\n",
    "        #n = n + 1"
   ]
  },
  {
   "cell_type": "markdown",
   "metadata": {},
   "source": [
    "The compareValues function is called when the user presses 'Bingo!'. This function then takes in the numbers pressed by the user on the card and also the numbers called out which have been generated. The function compares values to check that numPressed is a subset of call_list, otherwise it tells the user they are incorrect and shows which values were wrong. "
   ]
  },
  {
   "cell_type": "code",
   "execution_count": 93,
   "metadata": {},
   "outputs": [],
   "source": [
    "wrongNumberList = []\n",
    "def compareValues(numPressed, call_list):\n",
    "    \n",
    "    list1=list(map(int, numPressed)) #This changes list from strings to ints\n",
    "    #list2=list(map(int, call_list))\n",
    "    list2 = list(dict.fromkeys(call_list)) #converts to dict then back to list to remove duplicates\n",
    "    numReq = 1 #cardSize*cardSize #number of numbers required for bingo\n",
    "    \n",
    "    #check = all(item in list2 for item in list1)\n",
    "    \n",
    "    for element in list1:\n",
    "        if element not in list2:\n",
    "            wrongNumberList.append(element)\n",
    "    \n",
    "    if len(list1)==numReq:\n",
    "        if (all(item in list2 for item in list1)): \n",
    "            print(\"Congratulations, it's Bingo!\")\n",
    "            display(Audio(\"./Sounds/ThatsABingo.mp3\", autoplay =True))\n",
    "        else:\n",
    "            print(\"Unfortunately, these numbers do not match. These numbers are incorrect \" + str(wrongNumberList)) "
   ]
  },
  {
   "cell_type": "code",
   "execution_count": 94,
   "metadata": {},
   "outputs": [],
   "source": [
    "#compareValues(call_list, numCalled)"
   ]
  },
  {
   "cell_type": "code",
   "execution_count": 95,
   "metadata": {},
   "outputs": [],
   "source": [
    "def bingoPressed(bingoButton):\n",
    "    bingoButton\n",
    "    bingoButton.style.button_color = 'green'\n",
    "    bingoButton = compareValues(numPressed, call_list) #"
   ]
  },
  {
   "cell_type": "markdown",
   "metadata": {},
   "source": [
    "Implementing the bingo card based upon the number of players and size of the card required. \n",
    "\n",
    "Through the use of a for loop, the numbers within the card can be generated and placed in a ipywidget layout. This layout creates a grid which is sized using the cardSize * cardSize. \n",
    "\n",
    "For the bingo game to be interactive, the need to implement a form of user interaction, such as scoring off the number called, was required. This is achieved by creating a for loop which has a callback element and calls the function above, button_on_click()."
   ]
  },
  {
   "cell_type": "code",
   "execution_count": 96,
   "metadata": {},
   "outputs": [],
   "source": [
    "cardSize = 4\n",
    "minNum = 1\n",
    "maxNum = 90\n",
    "noCards = 2\n",
    "myCards = []\n",
    "bingos = []\n",
    "\n",
    "for i in range(noCards):\n",
    "    card = []\n",
    "    randRange = range(minNum, maxNum)\n",
    "    card = random.sample(randRange, cardSize * cardSize)\n",
    " \n",
    "    buttons = []\n",
    "    \n",
    "    myButton = widgets.GridBox(children=[widgets.Button(description=str(num), layout=widgets.Layout(width='auto', height='auto'),\n",
    "                 button_style='warning') for num in card],\n",
    "\n",
    "                layout=widgets.Layout(\n",
    "                                    width='80%',\n",
    "                                    grid_template_columns='20%'*cardSize,\n",
    "                                    grid_template_rows='40px'*cardSize,\n",
    "                                    grid_gap='1px 2px')\n",
    "                           )\n",
    "    \n",
    "    for button in myButton.children:\n",
    "        button.on_click(button_on_click)\n",
    "            \n",
    "    myCards.append(myButton)\n",
    "    \n",
    "  \n",
    "    \n",
    "    #bingoButton = widgets.GridBox(children=[widgets.Button(description='Bingo!', layout=widgets.Layout(width='auto', height='auto'),\n",
    "                 #button_style='warning') for i in range(1)],\n",
    "\n",
    "                #layout=widgets.Layout(\n",
    "                                    #width='60%',\n",
    "                                    #grid_template_columns='20%',\n",
    "                                    #grid_template_rows='40px',\n",
    "                                    #grid_gap='1px 2px')\n",
    "                            \n",
    "    \n",
    "    bingoButton = widgets.Button(description='Bingo!', button_style='warning')\n",
    "    \n",
    "    #for bingo in bingoButton.children:\n",
    "    bingoButton.on_click(bingoPressed)\n",
    "\n",
    "    bingos.append(bingoButton)\n",
    "    "
   ]
  },
  {
   "cell_type": "markdown",
   "metadata": {},
   "source": [
    "The bingo card can then be displayed through calling myButton."
   ]
  },
  {
   "cell_type": "code",
   "execution_count": 128,
   "metadata": {},
   "outputs": [],
   "source": [
    "numPressed = []\n",
    "rows, cols = noCards, (cardSize*cardSize)"
   ]
  },
  {
   "cell_type": "code",
   "execution_count": 129,
   "metadata": {},
   "outputs": [],
   "source": [
    "find = myCards[0].parent \n",
    "find = 63"
   ]
  },
  {
   "cell_type": "markdown",
   "metadata": {},
   "source": [
    "The for loop below allows the bingo cards to be generated and is where the user can interact with the game. "
   ]
  },
  {
   "cell_type": "code",
   "execution_count": 132,
   "metadata": {},
   "outputs": [
    {
     "data": {
      "application/vnd.jupyter.widget-view+json": {
       "model_id": "3521091f90b04c7e8a63d72d9668ea50",
       "version_major": 2,
       "version_minor": 0
      },
      "text/plain": [
       "GridBox(children=(Button(button_style='warning', description='43', layout=Layout(height='auto', width='auto'),…"
      ]
     },
     "metadata": {},
     "output_type": "display_data"
    },
    {
     "data": {
      "application/vnd.jupyter.widget-view+json": {
       "model_id": "eacdb349a6ec4d6485fb88c0c41fd4a8",
       "version_major": 2,
       "version_minor": 0
      },
      "text/plain": [
       "Button(button_style='warning', description='Bingo!', style=ButtonStyle(button_color='green'))"
      ]
     },
     "metadata": {},
     "output_type": "display_data"
    },
    {
     "data": {
      "application/vnd.jupyter.widget-view+json": {
       "model_id": "009288d69cfc4274853cc8f43d204245",
       "version_major": 2,
       "version_minor": 0
      },
      "text/plain": [
       "GridBox(children=(Button(button_style='warning', description='46', layout=Layout(height='auto', width='auto'),…"
      ]
     },
     "metadata": {},
     "output_type": "display_data"
    },
    {
     "data": {
      "application/vnd.jupyter.widget-view+json": {
       "model_id": "2cda5ae74cda4463b3dda9784c108a85",
       "version_major": 2,
       "version_minor": 0
      },
      "text/plain": [
       "Button(button_style='warning', description='Bingo!', style=ButtonStyle())"
      ]
     },
     "metadata": {},
     "output_type": "display_data"
    },
    {
     "ename": "AttributeError",
     "evalue": "'Button' object has no attribute 'myButton'",
     "output_type": "error",
     "traceback": [
      "\u001b[0;31m---------------------------------------------------------------------------\u001b[0m",
      "\u001b[0;31mAttributeError\u001b[0m                            Traceback (most recent call last)",
      "\u001b[0;32m<ipython-input-90-a15022fb8f57>\u001b[0m in \u001b[0;36mbutton_on_click\u001b[0;34m(myButton)\u001b[0m\n\u001b[1;32m      3\u001b[0m     \u001b[0mmyButton\u001b[0m\u001b[0;34m.\u001b[0m\u001b[0mstyle\u001b[0m\u001b[0;34m.\u001b[0m\u001b[0mbutton_color\u001b[0m \u001b[0;34m=\u001b[0m \u001b[0;34m'green'\u001b[0m\u001b[0;34m\u001b[0m\u001b[0m\n\u001b[1;32m      4\u001b[0m     \u001b[0;31m#numPressed = card.children[idx]\u001b[0m\u001b[0;34m\u001b[0m\u001b[0;34m\u001b[0m\u001b[0m\n\u001b[0;32m----> 5\u001b[0;31m     \u001b[0mnumPressed\u001b[0m\u001b[0;34m.\u001b[0m\u001b[0mappend\u001b[0m\u001b[0;34m(\u001b[0m\u001b[0mcard\u001b[0m\u001b[0;34m.\u001b[0m\u001b[0mchildren\u001b[0m\u001b[0;34m[\u001b[0m\u001b[0midx\u001b[0m\u001b[0;34m]\u001b[0m\u001b[0;34m.\u001b[0m\u001b[0mmyButton\u001b[0m\u001b[0;34m.\u001b[0m\u001b[0mdescription\u001b[0m\u001b[0;34m)\u001b[0m\u001b[0;34m\u001b[0m\u001b[0m\n\u001b[0m",
      "\u001b[0;31mAttributeError\u001b[0m: 'Button' object has no attribute 'myButton'"
     ]
    },
    {
     "ename": "AttributeError",
     "evalue": "'Button' object has no attribute 'myButton'",
     "output_type": "error",
     "traceback": [
      "\u001b[0;31m---------------------------------------------------------------------------\u001b[0m",
      "\u001b[0;31mAttributeError\u001b[0m                            Traceback (most recent call last)",
      "\u001b[0;32m<ipython-input-90-a15022fb8f57>\u001b[0m in \u001b[0;36mbutton_on_click\u001b[0;34m(myButton)\u001b[0m\n\u001b[1;32m      3\u001b[0m     \u001b[0mmyButton\u001b[0m\u001b[0;34m.\u001b[0m\u001b[0mstyle\u001b[0m\u001b[0;34m.\u001b[0m\u001b[0mbutton_color\u001b[0m \u001b[0;34m=\u001b[0m \u001b[0;34m'green'\u001b[0m\u001b[0;34m\u001b[0m\u001b[0m\n\u001b[1;32m      4\u001b[0m     \u001b[0;31m#numPressed = card.children[idx]\u001b[0m\u001b[0;34m\u001b[0m\u001b[0;34m\u001b[0m\u001b[0m\n\u001b[0;32m----> 5\u001b[0;31m     \u001b[0mnumPressed\u001b[0m\u001b[0;34m.\u001b[0m\u001b[0mappend\u001b[0m\u001b[0;34m(\u001b[0m\u001b[0mcard\u001b[0m\u001b[0;34m.\u001b[0m\u001b[0mchildren\u001b[0m\u001b[0;34m[\u001b[0m\u001b[0midx\u001b[0m\u001b[0;34m]\u001b[0m\u001b[0;34m.\u001b[0m\u001b[0mmyButton\u001b[0m\u001b[0;34m.\u001b[0m\u001b[0mdescription\u001b[0m\u001b[0;34m)\u001b[0m\u001b[0;34m\u001b[0m\u001b[0m\n\u001b[0m",
      "\u001b[0;31mAttributeError\u001b[0m: 'Button' object has no attribute 'myButton'"
     ]
    }
   ],
   "source": [
    "#numPressed = []\n",
    "for idx, card in enumerate(myCards):\n",
    "    #numPressed = myCards[idx]\n",
    "    display(card)\n",
    "    for i in range(rows):\n",
    "        cols = []\n",
    "        for j in cols:\n",
    "            cols.append(myButton.description)\n",
    "    display(bingos[idx])\n",
    "#numPressed[idx][element] = myCards[idx].children[]    "
   ]
  },
  {
   "cell_type": "code",
   "execution_count": 47,
   "metadata": {},
   "outputs": [
    {
     "data": {
      "text/plain": [
       "[]"
      ]
     },
     "execution_count": 47,
     "metadata": {},
     "output_type": "execute_result"
    }
   ],
   "source": [
    "numPressed"
   ]
  },
  {
   "cell_type": "code",
   "execution_count": 33,
   "metadata": {},
   "outputs": [
    {
     "data": {
      "text/plain": [
       "[1]"
      ]
     },
     "execution_count": 33,
     "metadata": {},
     "output_type": "execute_result"
    }
   ],
   "source": [
    "call_list"
   ]
  },
  {
   "cell_type": "markdown",
   "metadata": {},
   "source": [
    "Prints a list of numbers - keep for now just incase. \n",
    "\n",
    "buttons = []\n",
    "#for num in card:\n",
    "    #print(num)\n",
    "for num in card:\n",
    "    print(num)\n",
    "    myButton = widgets.Button(description=str(num), layout=widgets.Layout(width='100px', height='100px', columns='20%'*cardSize, rows='40px'*cardSize),\n",
    "                         button_style='danger')\n",
    "\n",
    "    buttons.append(myButton)\n",
    "    myButton.on_click(button_on_click)\n",
    "\n",
    "    \n",
    "    "
   ]
  },
  {
   "cell_type": "markdown",
   "metadata": {},
   "source": [
    "for button in buttons:\n",
    "    display(button)"
   ]
  }
 ],
 "metadata": {
  "kernelspec": {
   "display_name": "Python 3",
   "language": "python",
   "name": "python3"
  },
  "language_info": {
   "codemirror_mode": {
    "name": "ipython",
    "version": 3
   },
   "file_extension": ".py",
   "mimetype": "text/x-python",
   "name": "python",
   "nbconvert_exporter": "python",
   "pygments_lexer": "ipython3",
   "version": "3.6.5"
  }
 },
 "nbformat": 4,
 "nbformat_minor": 2
}
