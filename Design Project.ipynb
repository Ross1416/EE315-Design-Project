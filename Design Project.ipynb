{
 "cells": [
  {
   "cell_type": "markdown",
   "metadata": {},
   "source": [
    "# EE315 Design Project"
   ]
  },
  {
   "cell_type": "markdown",
   "metadata": {},
   "source": [
    "Create a Bingo card!\n",
    "\n",
    "The below method generates an array of random numbers and sorts them into a bingo card format."
   ]
  },
  {
   "cell_type": "markdown",
   "metadata": {},
   "source": [
    "Importing the overlay class."
   ]
  },
  {
   "cell_type": "code",
   "execution_count": 26,
   "metadata": {},
   "outputs": [],
   "source": [
    "from pynq import Overlay"
   ]
  },
  {
   "cell_type": "markdown",
   "metadata": {},
   "source": [
    "Program the Overlay onto the PYNQ-Z2, and parse the Hwh file"
   ]
  },
  {
   "cell_type": "code",
   "execution_count": 27,
   "metadata": {},
   "outputs": [],
   "source": [
    "ol = Overlay(\"design_1_wrapper.bit\")"
   ]
  },
  {
   "cell_type": "markdown",
   "metadata": {},
   "source": [
    "Return a file that reports the results of the Hwh parsing to the designer."
   ]
  },
  {
   "cell_type": "code",
   "execution_count": 28,
   "metadata": {},
   "outputs": [],
   "source": [
    "ol?"
   ]
  },
  {
   "cell_type": "markdown",
   "metadata": {},
   "source": [
    "Importing the required libraries."
   ]
  },
  {
   "cell_type": "code",
   "execution_count": 29,
   "metadata": {},
   "outputs": [],
   "source": [
    "import random\n",
    "import ipywidgets as widgets\n",
    "from IPython.display import display"
   ]
  },
  {
   "cell_type": "code",
   "execution_count": 30,
   "metadata": {},
   "outputs": [],
   "source": [
    "rng = ol.rng_test01_0"
   ]
  },
  {
   "cell_type": "code",
   "execution_count": 31,
   "metadata": {},
   "outputs": [],
   "source": [
    "rng.write(0x00, 0)\n",
    "rng.write(0x04, 1)\n",
    "rng.write(0x08,3)\n",
    "out_address = 0x0C"
   ]
  },
  {
   "cell_type": "code",
   "execution_count": 32,
   "metadata": {},
   "outputs": [],
   "source": [
    "my_list=[]\n",
    "for i in range (1,91):\n",
    "    my_list.append(i)"
   ]
  },
  {
   "cell_type": "markdown",
   "metadata": {},
   "source": [
    "The call_number_func() ensures that the number generated cannot be greater than 90. If it is then it regenerates it and appends it to a list of random numbers. "
   ]
  },
  {
   "cell_type": "code",
   "execution_count": 33,
   "metadata": {},
   "outputs": [],
   "source": [
    "def call_number_func():\n",
    "\n",
    "    RNG_number = rng.read(out_address)\n",
    "    while RNG_number>len(my_list):\n",
    "        RNG_number = rng.read(out_address)\n",
    "        if RNG_number> len(my_list):\n",
    "            RNG_number = 90 - len(my_list)\n",
    "\n",
    "    call_number = my_list[RNG_number]\n",
    "    my_list.remove(call_number)\n",
    "\n",
    "    call_list.append(call_number)"
   ]
  },
  {
   "cell_type": "code",
   "execution_count": 34,
   "metadata": {},
   "outputs": [],
   "source": [
    "call_list=[]"
   ]
  },
  {
   "cell_type": "code",
   "execution_count": 51,
   "metadata": {},
   "outputs": [],
   "source": [
    "call_number_func()"
   ]
  },
  {
   "cell_type": "code",
   "execution_count": 52,
   "metadata": {},
   "outputs": [
    {
     "data": {
      "text/plain": [
       "[57, 51]"
      ]
     },
     "execution_count": 52,
     "metadata": {},
     "output_type": "execute_result"
    }
   ],
   "source": [
    "call_list"
   ]
  },
  {
   "cell_type": "markdown",
   "metadata": {},
   "source": [
    "The function implements the ability for the button to change colour. This will allow the user to interact and score off their numbers which have been called. "
   ]
  },
  {
   "cell_type": "code",
   "execution_count": 37,
   "metadata": {},
   "outputs": [],
   "source": [
    "button_list=[]\n",
    "numCalled=[]\n",
    "wrongNumberList=[]"
   ]
  },
  {
   "cell_type": "code",
   "execution_count": 55,
   "metadata": {},
   "outputs": [],
   "source": [
    "def button_on_click(myButton):\n",
    "    myButton\n",
    "    myButton.style.button_color = 'green'\n",
    "    numCalled.append(myButton.description)"
   ]
  },
  {
   "cell_type": "code",
   "execution_count": 56,
   "metadata": {},
   "outputs": [],
   "source": [
    "#def bingo(validation):\n",
    "#    if(validation):\n",
    "#        print(\"Congratulations, you have won!\")\n",
    "#    else:\n",
    "#        print(\"Unfortunately, your card is incorrect\")     "
   ]
  },
  {
   "cell_type": "code",
   "execution_count": 57,
   "metadata": {},
   "outputs": [],
   "source": [
    "#numMarked = []\n",
    "#def numberCalledList(numCalled):\n",
    "    #for noCards in myCards:\n",
    "        #n = 1\n",
    "        #numMarked.append(numCalled)\n",
    "        #n = n + 1"
   ]
  },
  {
   "cell_type": "code",
   "execution_count": 58,
   "metadata": {},
   "outputs": [],
   "source": [
    "wrongNumberList=[]\n",
    "def compare_lists(numMarked, call_list):\n",
    "    #List2 should be call list, list1 should be numbers from card\n",
    "    #wrongNumberList=[]\n",
    "    list1sorted=sorted(list(map(int, numMarked)))\n",
    "    list2sorted=sorted(call_list)\n",
    "    #n=8\n",
    "    #wrongNumberList = []\n",
    "    #wrongNumberList = []\n",
    "    for element in list1sorted:\n",
    "        if element not in list2sorted:\n",
    "            wrongNumberList.append(element)\n",
    " \n",
    "    #print(wrongNumberList)\n",
    "\n",
    "    \n",
    "        \n",
    "    #WrongNumberList=list1sorted.difference(list2sorted)\n",
    "    if len(list1sorted) < len(list2sorted):\n",
    "        print(\"Not enough numbers for Bingo\")\n",
    "    elif len(list1sorted) > len(list2sorted):\n",
    "        print(\"Too many numbers for Bingo\")\n",
    "    #elif len(wrongNumberList)==0:\n",
    "        #print(\"Congratulations it's BINGO!!!\")\n",
    "    else:\n",
    "        if list1sorted == list2sorted:\n",
    "            print(\"Congratulations, it's Bingo!\")\n",
    "        else:\n",
    "            print(\"Unfortunately, these numbers do not match. These numbers are incorrect \" + str(wrongNumberList))"
   ]
  },
  {
   "cell_type": "code",
   "execution_count": 59,
   "metadata": {},
   "outputs": [],
   "source": [
    "def bingoPressed(bingoButton):\n",
    "    bingoButton\n",
    "    bingoButton.style.button_color = 'green'\n",
    "    bingoButton = compare_lists(numCalled, call_list)"
   ]
  },
  {
   "cell_type": "markdown",
   "metadata": {},
   "source": [
    "Implementing the bingo card based upon the number of players and size of the card required. \n",
    "\n",
    "Through the use of a for loop, the numbers within the card can be generated and placed in a ipywidget layout. This layout creates a grid which is sized using the cardSize * cardSize. \n",
    "\n",
    "For the bingo game to be interactive, the need to implement a form of user interaction, such as scoring off the number called, was required. This is achieved by creating a for loop which has a callback element and calls the function above, button_on_click()."
   ]
  },
  {
   "cell_type": "code",
   "execution_count": 60,
   "metadata": {},
   "outputs": [],
   "source": [
    "cardSize = 2\n",
    "minNum = 1\n",
    "maxNum = 90\n",
    "noCards = 3\n",
    "myCards = []\n",
    "bingos = []\n",
    "\n",
    "for i in range(noCards):\n",
    "    card = []\n",
    "    randRange = range(minNum, maxNum)\n",
    "    card = random.sample(randRange, cardSize * cardSize)\n",
    " \n",
    "    buttons = []\n",
    "    \n",
    "    myButton = widgets.GridBox(children=[widgets.Button(description=str(num), layout=widgets.Layout(width='auto', height='auto'),\n",
    "                 button_style='warning') for num in card],\n",
    "\n",
    "                layout=widgets.Layout(\n",
    "                                    width='80%',\n",
    "                                    grid_template_columns='20%'*cardSize,\n",
    "                                    grid_template_rows='40px'*cardSize,\n",
    "                                    grid_gap='1px 2px')\n",
    "                           )\n",
    "    \n",
    "    for button in myButton.children:\n",
    "        button.on_click(button_on_click)\n",
    "            \n",
    "    myCards.append(myButton)\n",
    "    \n",
    "  \n",
    "    \n",
    "    #bingoButton = widgets.GridBox(children=[widgets.Button(description='Bingo!', layout=widgets.Layout(width='auto', height='auto'),\n",
    "                 #button_style='warning') for i in range(1)],\n",
    "\n",
    "                #layout=widgets.Layout(\n",
    "                                    #width='60%',\n",
    "                                    #grid_template_columns='20%',\n",
    "                                    #grid_template_rows='40px',\n",
    "                                    #grid_gap='1px 2px')\n",
    "                            \n",
    "    \n",
    "    bingoButton = widgets.Button(description='Bingo!', button_style='warning')\n",
    "    \n",
    "    #for bingo in bingoButton.children:\n",
    "    bingoButton.on_click(bingoPressed)\n",
    "\n",
    "    bingos.append(bingoButton)\n",
    "    "
   ]
  },
  {
   "cell_type": "markdown",
   "metadata": {},
   "source": [
    "The bingo card can then be displayed through calling myButton."
   ]
  },
  {
   "cell_type": "code",
   "execution_count": 61,
   "metadata": {},
   "outputs": [],
   "source": [
    "for noCards in myCards:\n",
    "    numCalled = []\n",
    "    "
   ]
  },
  {
   "cell_type": "code",
   "execution_count": 62,
   "metadata": {},
   "outputs": [],
   "source": [
    "bingo_buttons = []"
   ]
  },
  {
   "cell_type": "code",
   "execution_count": 65,
   "metadata": {},
   "outputs": [
    {
     "data": {
      "application/vnd.jupyter.widget-view+json": {
       "model_id": "d844be1fcf1e4c3d81d34ea36d1e39fe",
       "version_major": 2,
       "version_minor": 0
      },
      "text/plain": [
       "GridBox(children=(Button(button_style='warning', description='72', layout=Layout(height='auto', width='auto'),…"
      ]
     },
     "metadata": {},
     "output_type": "display_data"
    },
    {
     "data": {
      "application/vnd.jupyter.widget-view+json": {
       "model_id": "e1edc4c86e4948c59ec772eea0c28317",
       "version_major": 2,
       "version_minor": 0
      },
      "text/plain": [
       "Button(button_style='warning', description='Bingo!', style=ButtonStyle(button_color='green'))"
      ]
     },
     "metadata": {},
     "output_type": "display_data"
    },
    {
     "data": {
      "application/vnd.jupyter.widget-view+json": {
       "model_id": "54e3e52c0f944fe896b80a84441fbc82",
       "version_major": 2,
       "version_minor": 0
      },
      "text/plain": [
       "GridBox(children=(Button(button_style='warning', description='77', layout=Layout(height='auto', width='auto'),…"
      ]
     },
     "metadata": {},
     "output_type": "display_data"
    },
    {
     "data": {
      "application/vnd.jupyter.widget-view+json": {
       "model_id": "6220dc1f20a84d8ea966bc266cbdd0e4",
       "version_major": 2,
       "version_minor": 0
      },
      "text/plain": [
       "Button(button_style='warning', description='Bingo!', style=ButtonStyle())"
      ]
     },
     "metadata": {},
     "output_type": "display_data"
    },
    {
     "data": {
      "application/vnd.jupyter.widget-view+json": {
       "model_id": "d4d0e720557646219f28188e965dc67d",
       "version_major": 2,
       "version_minor": 0
      },
      "text/plain": [
       "GridBox(children=(Button(button_style='warning', description='52', layout=Layout(height='auto', width='auto'),…"
      ]
     },
     "metadata": {},
     "output_type": "display_data"
    },
    {
     "data": {
      "application/vnd.jupyter.widget-view+json": {
       "model_id": "a17f314d677d40fab0b2fbfbbe6fc28f",
       "version_major": 2,
       "version_minor": 0
      },
      "text/plain": [
       "Button(button_style='warning', description='Bingo!', style=ButtonStyle())"
      ]
     },
     "metadata": {},
     "output_type": "display_data"
    }
   ],
   "source": [
    "numCalled = []\n",
    "for idx, card in enumerate(myCards):\n",
    "    #numCalled = myCards[idx]\n",
    "    display(card)\n",
    "    display(bingos[idx])"
   ]
  },
  {
   "cell_type": "code",
   "execution_count": 47,
   "metadata": {},
   "outputs": [
    {
     "data": {
      "text/plain": [
       "[Button(button_style='warning', description='Bingo!', style=ButtonStyle()),\n",
       " Button(button_style='warning', description='Bingo!', style=ButtonStyle()),\n",
       " Button(button_style='warning', description='Bingo!', style=ButtonStyle())]"
      ]
     },
     "execution_count": 47,
     "metadata": {},
     "output_type": "execute_result"
    }
   ],
   "source": [
    "bingos"
   ]
  },
  {
   "cell_type": "markdown",
   "metadata": {},
   "source": [
    "Prints a list of numbers - keep for now just incase. \n",
    "\n",
    "buttons = []\n",
    "#for num in card:\n",
    "    #print(num)\n",
    "for num in card:\n",
    "    print(num)\n",
    "    myButton = widgets.Button(description=str(num), layout=widgets.Layout(width='100px', height='100px', columns='20%'*cardSize, rows='40px'*cardSize),\n",
    "                         button_style='danger')\n",
    "\n",
    "    buttons.append(myButton)\n",
    "    myButton.on_click(button_on_click)\n",
    "\n",
    "    \n",
    "    "
   ]
  },
  {
   "cell_type": "markdown",
   "metadata": {},
   "source": [
    "for button in buttons:\n",
    "    display(button)"
   ]
  },
  {
   "cell_type": "code",
   "execution_count": null,
   "metadata": {},
   "outputs": [],
   "source": []
  },
  {
   "cell_type": "code",
   "execution_count": 88,
   "metadata": {},
   "outputs": [
    {
     "data": {
      "text/plain": [
       "[]"
      ]
     },
     "execution_count": 88,
     "metadata": {},
     "output_type": "execute_result"
    }
   ],
   "source": [
    "list(map(int, numCalled))"
   ]
  },
  {
   "cell_type": "code",
   "execution_count": null,
   "metadata": {},
   "outputs": [],
   "source": []
  },
  {
   "cell_type": "code",
   "execution_count": 89,
   "metadata": {},
   "outputs": [
    {
     "name": "stdout",
     "output_type": "stream",
     "text": [
      "Not enough numbers for Bingo\n"
     ]
    }
   ],
   "source": [
    "#CheckList=compare_lists(numCalled,call_list)"
   ]
  },
  {
   "cell_type": "code",
   "execution_count": 90,
   "metadata": {},
   "outputs": [
    {
     "data": {
      "text/plain": [
       "[]"
      ]
     },
     "execution_count": 90,
     "metadata": {},
     "output_type": "execute_result"
    }
   ],
   "source": [
    "list(map(int, wrongNumberList))"
   ]
  },
  {
   "cell_type": "code",
   "execution_count": null,
   "metadata": {},
   "outputs": [],
   "source": []
  }
 ],
 "metadata": {
  "kernelspec": {
   "display_name": "Python 3",
   "language": "python",
   "name": "python3"
  },
  "language_info": {
   "codemirror_mode": {
    "name": "ipython",
    "version": 3
   },
   "file_extension": ".py",
   "mimetype": "text/x-python",
   "name": "python",
   "nbconvert_exporter": "python",
   "pygments_lexer": "ipython3",
   "version": "3.6.5"
  }
 },
 "nbformat": 4,
 "nbformat_minor": 2
}
